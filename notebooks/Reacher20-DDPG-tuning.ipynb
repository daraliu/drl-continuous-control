{
 "cells": [
  {
   "cell_type": "code",
   "execution_count": 1,
   "metadata": {},
   "outputs": [
    {
     "name": "stderr",
     "output_type": "stream",
     "text": [
      "\n",
      "Bad key \"text.kerning_factor\" on line 4 in\n",
      "/home/hm/anaconda3/envs/drlnd/lib/python3.6/site-packages/matplotlib/mpl-data/stylelib/_classic_test_patch.mplstyle.\n",
      "You probably need to get an updated matplotlibrc file from\n",
      "http://github.com/matplotlib/matplotlib/blob/master/matplotlibrc.template\n",
      "or from the matplotlib source distribution\n"
     ]
    }
   ],
   "source": [
    "%reload_ext autoreload\n",
    "%autoreload 2\n",
    "%matplotlib inline\n",
    "\n",
    "import json\n",
    "import uuid\n",
    "import pathlib\n",
    "\n",
    "from unityagents import UnityEnvironment\n",
    "import pandas as pd\n",
    "\n",
    "from drl_ctrl import control\n",
    "from drl_ctrl import scores_util as su\n",
    "from drl_ctrl import path_util as pu\n",
    "\n",
    "import warnings\n",
    "warnings.filterwarnings('ignore')"
   ]
  },
  {
   "cell_type": "code",
   "execution_count": 2,
   "metadata": {},
   "outputs": [],
   "source": [
    "tuning_output_dir = pathlib.Path(\"../training_output/tuning_ddpg\")\n",
    "agent_type = 'DDPG'"
   ]
  },
  {
   "cell_type": "code",
   "execution_count": 3,
   "metadata": {},
   "outputs": [],
   "source": [
    "default_params = {\n",
    "    \"n_episodes\": 500,\n",
    "    \"update_every\": 10,\n",
    "    \"num_updates\": 20,\n",
    "    \"buffer_size\": 100_000,\n",
    "    \"batch_size\": 128,\n",
    "    \"gamma_discount_factor\": 0.95,\n",
    "    \"mean_score_threshold\": 30.0,\n",
    "    \"max_t\": 1000,\n",
    "    \"learning_rate_actor\": 2e-3,\n",
    "    \"learning_rate_critic\": 1e-3,\n",
    "    \"tau_soft_update\": 1e-3,\n",
    "    \"l2_weight_decay\": 0,\n",
    "    \"has_ou_noise\": True,\n",
    "    \"ou_noise_mu\": 0.0,\n",
    "    \"ou_noise_theta\": 0.15,\n",
    "    \"ou_noise_sigma\": 0.1,\n",
    "    \"agent_seed\": 11_111,\n",
    "    \"logging_freq\": 1,\n",
    "}"
   ]
  },
  {
   "cell_type": "code",
   "execution_count": 4,
   "metadata": {},
   "outputs": [],
   "source": [
    "candidate_params = [\n",
    "    {\n",
    "        \"update_every\": 10,\n",
    "        \"num_updates\": 20,\n",
    "        \"ou_noise_sigma\": 0.1,\n",
    "    },\n",
    "    {\n",
    "        \"update_every\": 20,\n",
    "        \"num_updates\": 10,\n",
    "        \"ou_noise_sigma\": 0.1,\n",
    "    },\n",
    "    {\n",
    "        \"update_every\": 20,\n",
    "        \"num_updates\": 10,\n",
    "        \"ou_noise_sigma\": 0.75,\n",
    "    },\n",
    "    {\n",
    "        \"update_every\": 20,\n",
    "        \"num_updates\": 10,\n",
    "        \"ou_noise_sigma\": 0.75,\n",
    "    },\n",
    "    {\n",
    "        \"update_every\": 10,\n",
    "        \"num_updates\": 20,\n",
    "        \"ou_noise_sigma\": 0.1,\n",
    "    },\n",
    "    {\n",
    "        \"update_every\": 20,\n",
    "        \"num_updates\": 10,\n",
    "        \"ou_noise_sigma\": 0.1,\n",
    "    },\n",
    "    {\n",
    "        \"update_every\": 10,\n",
    "        \"num_updates\": 20,\n",
    "        \"ou_noise_sigma\": 0.1,\n",
    "        \"gamma_discount_factor\": 0.99\n",
    "    },\n",
    "    {\n",
    "        \"update_every\": 20,\n",
    "        \"num_updates\": 10,\n",
    "        \"ou_noise_sigma\": 0.1,\n",
    "        \"gamma_discount_factor\": 0.99\n",
    "    },\n",
    "]"
   ]
  },
  {
   "cell_type": "code",
   "execution_count": 5,
   "metadata": {},
   "outputs": [
    {
     "name": "stderr",
     "output_type": "stream",
     "text": [
      "INFO:unityagents:\n",
      "'Academy' started successfully!\n",
      "Unity Academy name: Academy\n",
      "        Number of Brains: 1\n",
      "        Number of External Brains : 1\n",
      "        Lesson number : 0\n",
      "        Reset Parameters :\n",
      "\t\tgoal_speed -> 1.0\n",
      "\t\tgoal_size -> 5.0\n",
      "Unity brain name: ReacherBrain\n",
      "        Number of Visual Observations (per agent): 0\n",
      "        Vector Observation space type: continuous\n",
      "        Vector Observation space size (per agent): 33\n",
      "        Number of stacked Vector Observation: 1\n",
      "        Vector Action space type: continuous\n",
      "        Vector Action space size (per agent): 4\n",
      "        Vector Action descriptions: , , , \n"
     ]
    }
   ],
   "source": [
    "env = UnityEnvironment(file_name=\"../Reacher20_Linux/Reacher.x86_64\")"
   ]
  },
  {
   "cell_type": "code",
   "execution_count": 6,
   "metadata": {},
   "outputs": [
    {
     "name": "stderr",
     "output_type": "stream",
     "text": [
      "INFO:drl_ctrl.control:Ensuring output directory exists: ../training_output/tuning_ddpg/394b0ed4-69cb-4260-ae85-67ca73668c18\n"
     ]
    },
    {
     "name": "stdout",
     "output_type": "stream",
     "text": [
      "{'n_episodes': 500, 'update_every': 10, 'num_updates': 20, 'buffer_size': 100000, 'batch_size': 128, 'gamma_discount_factor': 0.95, 'mean_score_threshold': 30.0, 'max_t': 1000, 'learning_rate_actor': 0.002, 'learning_rate_critic': 0.001, 'tau_soft_update': 0.001, 'l2_weight_decay': 0, 'has_ou_noise': True, 'ou_noise_mu': 0.0, 'ou_noise_theta': 0.15, 'ou_noise_sigma': 0.1, 'agent_seed': 111111, 'logging_freq': 1}\n"
     ]
    },
    {
     "name": "stderr",
     "output_type": "stream",
     "text": [
      "Episode 1\tAverage Score: 0.86\n",
      "Episode 2\tAverage Score: 0.77\n",
      "Episode 3\tAverage Score: 0.85\n",
      "Episode 4\tAverage Score: 0.98\n",
      "Episode 5\tAverage Score: 1.24\n",
      "Episode 6\tAverage Score: 1.47\n",
      "Episode 7\tAverage Score: 1.78\n",
      "Episode 8\tAverage Score: 1.97\n",
      "Episode 9\tAverage Score: 2.28\n",
      "Episode 10\tAverage Score: 2.62\n",
      "Episode 11\tAverage Score: 2.88\n",
      "Episode 12\tAverage Score: 3.57\n",
      "Episode 13\tAverage Score: 4.61\n",
      "Episode 14\tAverage Score: 5.66\n",
      "Episode 15\tAverage Score: 6.76\n",
      "Episode 16\tAverage Score: 8.03\n",
      "Episode 17\tAverage Score: 9.24\n",
      "Episode 18\tAverage Score: 10.74\n",
      "Episode 19\tAverage Score: 12.18\n",
      "Episode 20\tAverage Score: 13.51\n",
      "Episode 21\tAverage Score: 14.73\n",
      "Episode 22\tAverage Score: 15.77\n",
      "Episode 23\tAverage Score: 16.74\n",
      "Episode 24\tAverage Score: 17.52\n",
      "Episode 25\tAverage Score: 18.27\n",
      "Episode 26\tAverage Score: 19.00\n",
      "Episode 27\tAverage Score: 19.72\n",
      "Episode 28\tAverage Score: 20.35\n",
      "Episode 29\tAverage Score: 20.90\n",
      "Episode 30\tAverage Score: 21.44\n",
      "Episode 31\tAverage Score: 21.96\n",
      "Episode 32\tAverage Score: 22.40\n",
      "Episode 33\tAverage Score: 22.83\n",
      "Episode 34\tAverage Score: 23.21\n",
      "Episode 35\tAverage Score: 23.62\n",
      "Episode 36\tAverage Score: 24.01\n",
      "Episode 37\tAverage Score: 24.37\n",
      "Episode 38\tAverage Score: 24.67\n",
      "Episode 39\tAverage Score: 24.90\n",
      "Episode 40\tAverage Score: 25.09\n",
      "Episode 41\tAverage Score: 25.29\n",
      "Episode 42\tAverage Score: 25.53\n",
      "Episode 43\tAverage Score: 25.78\n",
      "Episode 44\tAverage Score: 25.98\n",
      "Episode 45\tAverage Score: 26.23\n",
      "Episode 46\tAverage Score: 26.50\n",
      "Episode 47\tAverage Score: 26.74\n",
      "Episode 48\tAverage Score: 26.93\n",
      "Episode 49\tAverage Score: 27.15\n",
      "Episode 50\tAverage Score: 27.35\n",
      "Episode 51\tAverage Score: 27.55\n",
      "Episode 52\tAverage Score: 27.74\n",
      "Episode 53\tAverage Score: 27.92\n",
      "Episode 54\tAverage Score: 28.09\n",
      "Episode 55\tAverage Score: 28.23\n",
      "Episode 56\tAverage Score: 28.36\n",
      "Episode 57\tAverage Score: 28.49\n",
      "Episode 58\tAverage Score: 28.61\n",
      "Episode 59\tAverage Score: 28.74\n",
      "Episode 60\tAverage Score: 28.86\n",
      "Episode 61\tAverage Score: 28.99\n",
      "Episode 62\tAverage Score: 29.10\n",
      "Episode 63\tAverage Score: 29.24\n",
      "Episode 64\tAverage Score: 29.38\n",
      "Episode 65\tAverage Score: 29.50\n",
      "Episode 66\tAverage Score: 29.63\n",
      "Episode 67\tAverage Score: 29.74\n",
      "Episode 68\tAverage Score: 29.81\n",
      "Episode 69\tAverage Score: 29.91\n",
      "Episode 70\tAverage Score: 30.02\n",
      "INFO:drl_ctrl.control:\n",
      "Environment solved in -30 episodes!\tAverage Score: 30.02\n",
      "INFO:drl_ctrl.control:Saving actor network model weights to ../training_output/tuning_ddpg/394b0ed4-69cb-4260-ae85-67ca73668c18/weights_actor.pth\n",
      "INFO:drl_ctrl.control:Actor model weights saved successfully!\n",
      "INFO:drl_ctrl.control:Saving critic network model weights to ../training_output/tuning_ddpg/394b0ed4-69cb-4260-ae85-67ca73668c18/weights_critic.pth\n",
      "INFO:drl_ctrl.control:Critic model weights saved successfully!\n",
      "INFO:drl_ctrl.control:Saving training scores to ../training_output/tuning_ddpg/394b0ed4-69cb-4260-ae85-67ca73668c18/scores.csv\n",
      "INFO:drl_ctrl.control:Training scores saved successfully!\n",
      "INFO:drl_ctrl.control:Saving training metadata to ../training_output/tuning_ddpg/394b0ed4-69cb-4260-ae85-67ca73668c18/metadata.json\n",
      "INFO:drl_ctrl.control:Training metadata saved successfully!\n"
     ]
    },
    {
     "ename": "NameError",
     "evalue": "name 'output_dir' is not defined",
     "output_type": "error",
     "traceback": [
      "\u001b[0;31m---------------------------------------------------------------------------\u001b[0m",
      "\u001b[0;31mNameError\u001b[0m                                 Traceback (most recent call last)",
      "\u001b[0;32m<ipython-input-6-d587d263d547>\u001b[0m in \u001b[0;36m<module>\u001b[0;34m\u001b[0m\n\u001b[1;32m     10\u001b[0m     \u001b[0mcontrol\u001b[0m\u001b[0;34m.\u001b[0m\u001b[0mtraining\u001b[0m\u001b[0;34m(\u001b[0m\u001b[0menv\u001b[0m\u001b[0;34m,\u001b[0m \u001b[0mout_dir\u001b[0m\u001b[0;34m,\u001b[0m \u001b[0;34m**\u001b[0m\u001b[0mtraining_params\u001b[0m\u001b[0;34m)\u001b[0m\u001b[0;34m\u001b[0m\u001b[0m\n\u001b[1;32m     11\u001b[0m \u001b[0;34m\u001b[0m\u001b[0m\n\u001b[0;32m---> 12\u001b[0;31m     \u001b[0mdf_scores\u001b[0m \u001b[0;34m=\u001b[0m \u001b[0msu\u001b[0m\u001b[0;34m.\u001b[0m\u001b[0mread_scores\u001b[0m\u001b[0;34m(\u001b[0m\u001b[0moutput_dir\u001b[0m\u001b[0;34m)\u001b[0m\u001b[0;34m\u001b[0m\u001b[0m\n\u001b[0m\u001b[1;32m     13\u001b[0m     \u001b[0mp_scores\u001b[0m \u001b[0;34m=\u001b[0m \u001b[0msu\u001b[0m\u001b[0;34m.\u001b[0m\u001b[0mplot_scores\u001b[0m\u001b[0;34m(\u001b[0m\u001b[0mdf_scores\u001b[0m\u001b[0;34m,\u001b[0m \u001b[0;34mf\"DDPG agent #{i}\"\u001b[0m\u001b[0;34m)\u001b[0m\u001b[0;34m\u001b[0m\u001b[0m\n\u001b[1;32m     14\u001b[0m     \u001b[0mprint\u001b[0m\u001b[0;34m(\u001b[0m\u001b[0mp_scores\u001b[0m\u001b[0;34m)\u001b[0m\u001b[0;34m\u001b[0m\u001b[0m\n",
      "\u001b[0;31mNameError\u001b[0m: name 'output_dir' is not defined"
     ]
    }
   ],
   "source": [
    "for i, p in enumerate(candidate_params):\n",
    "    training_params = {**default_params, **p}\n",
    "    print(training_params)\n",
    "    u_name = str(uuid.uuid4())\n",
    "    out_dir = tuning_output_dir.joinpath(u_name)\n",
    "    out_dir.mkdir(parents=True, exist_ok=True)\n",
    "    with open(out_dir.joinpath(\"training_params.json\"), \"w\") as f:\n",
    "        json.dump(training_params, f, indent=2)\n",
    "        \n",
    "    control.training(env, out_dir, **training_params)\n",
    "    \n",
    "    df_scores = su.read_scores(out_dir)\n",
    "    p_scores = su.plot_scores(df_scores, f\"DDPG agent #{i}\")\n",
    "    print(p_scores)"
   ]
  },
  {
   "cell_type": "code",
   "execution_count": 9,
   "metadata": {},
   "outputs": [],
   "source": [
    "best_params_so_far = {\n",
    " 'n_episodes': 500,\n",
    " 'update_every': 10,\n",
    " 'num_updates': 20,\n",
    " 'buffer_size': 100000,\n",
    " 'batch_size': 128,\n",
    " 'gamma_discount_factor': 0.95,\n",
    " 'mean_score_threshold': 30.0,\n",
    " 'max_t': 1000,\n",
    " 'learning_rate_actor': 0.002,\n",
    " 'learning_rate_critic': 0.001,\n",
    " 'tau_soft_update': 0.001,\n",
    " 'l2_weight_decay': 0,\n",
    " 'has_ou_noise': True,\n",
    " 'ou_noise_mu': 0.0,\n",
    " 'ou_noise_theta': 0.15,\n",
    " 'ou_noise_sigma': 0.1,\n",
    " 'agent_seed': 111111,\n",
    " 'logging_freq': 1}\n",
    "\n",
    "output_dir = '../training_output/tuning_ddpg/394b0ed4-69cb-4260-ae85-67ca73668c18'"
   ]
  },
  {
   "cell_type": "code",
   "execution_count": 7,
   "metadata": {},
   "outputs": [
    {
     "data": {
      "image/png": "[encoded data removed]",
      "text/plain": [
       "<matplotlib.figure.Figure at 0x7f9396daa860>"
      ]
     },
     "metadata": {},
     "output_type": "display_data"
    },
    {
     "name": "stdout",
     "output_type": "stream",
     "text": [
      "<ggplot: (8766991731425)>\n"
     ]
    }
   ],
   "source": [
    "df_scores = su.read_scores(out_dir)\n",
    "p_scores = su.plot_scores(df_scores, f\"DDPG agent #{i}\")\n",
    "print(p_scores)"
   ]
  },
  {
   "cell_type": "code",
   "execution_count": null,
   "metadata": {},
   "outputs": [],
   "source": [
    "env.close()"
   ]
  }
 ],
 "metadata": {
  "kernelspec": {
   "display_name": "Python 3",
   "language": "python",
   "name": "python3"
  },
  "language_info": {
   "codemirror_mode": {
    "name": "ipython",
    "version": 3
   },
   "file_extension": ".py",
   "mimetype": "text/x-python",
   "name": "python",
   "nbconvert_exporter": "python",
   "pygments_lexer": "ipython3",
   "version": "3.6.6"
  }
 },
 "nbformat": 4,
 "nbformat_minor": 4
}
